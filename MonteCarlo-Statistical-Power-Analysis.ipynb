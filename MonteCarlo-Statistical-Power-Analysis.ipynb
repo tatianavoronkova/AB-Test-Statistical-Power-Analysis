{
 "cells": [
  {
   "cell_type": "markdown",
   "id": "ccbd7db3",
   "metadata": {},
   "source": [
    "# Анализ статистической мощности. Оценка вероятности обнаружения эффекта методом Монте-Карло."
   ]
  },
  {
   "cell_type": "markdown",
   "id": "93508c6a",
   "metadata": {},
   "source": [
    "### Задание 1.\n",
    "ML планируют выкатывать новый алгоритм, рекомендующий пользователям интересные посты. \n",
    "Основные фичи:\n",
    "- Алгоритм добавляет пользователям 1-2 просмотра\n",
    "- Вероятность того, что он сработает, составляет 90%\n",
    "- Если у пользователя меньше 50 просмотров, то алгоритм не сработает\n",
    "\n",
    "Предполагается, что увеличение числа просмотров приведёт к увеличению лайков на пользователя.  \n",
    "\n",
    "**Вопрос:** сможем ли мы обнаружить различия в среднем количестве лайков на пользователя?  \n",
    "**Решение:** проведём симуляцию Монте-Карло."
   ]
  },
  {
   "cell_type": "code",
   "execution_count": 17,
   "id": "aa0c300a",
   "metadata": {},
   "outputs": [],
   "source": [
    "import pandahouse as ph\n",
    "import pandas as pd\n",
    "import seaborn as sns\n",
    "import matplotlib.pyplot as plt\n",
    "import numpy as np\n",
    "from scipy import stats # Статистика\n",
    "from scipy.stats import norm, ttest_ind\n",
    "%matplotlib inline\n",
    "rng = np.random.default_rng()\n",
    "from tqdm import tqdm\n",
    "import os"
   ]
  },
  {
   "cell_type": "code",
   "execution_count": 3,
   "id": "86696df8",
   "metadata": {},
   "outputs": [],
   "source": [
    "# Подключаемся к схеме данных ленты новостей\n",
    "connection = {\n",
    "    'host': os.getenv('HOST'),\n",
    "    'database': os.getenv('DATABASE'),\n",
    "    'user': os.getenv('USER_NAME'),\n",
    "    'password': os.getenv('PASSWORD')\n",
    "}\n",
    "\n",
    "# Рассчитаем просмотры для каждого пользователя\n",
    "\n",
    "q_views = \"\"\"\n",
    "select views, count() as users\n",
    "from (select  \n",
    "    user_id,\n",
    "    sum(action = 'view') as views\n",
    "FROM {db}.feed_actions \n",
    "where toDate(time) between '2024-04-26' and '2024-05-02'\n",
    "group by user_id\n",
    ")\n",
    "group by views\n",
    "order by views\n",
    "\"\"\"\n",
    "\n",
    "views_distribution = ph.read_clickhouse(q_views, connection=connection)"
   ]
  },
  {
   "cell_type": "code",
   "execution_count": 4,
   "id": "52922f60",
   "metadata": {},
   "outputs": [
    {
     "data": {
      "text/plain": [
       "41997"
      ]
     },
     "execution_count": 4,
     "metadata": {},
     "output_type": "execute_result"
    }
   ],
   "source": [
    "# Кол-во уникальных пользователей за период А/А теста\n",
    "views_distribution.users.sum()"
   ]
  },
  {
   "cell_type": "code",
   "execution_count": 5,
   "id": "55d7e9c3",
   "metadata": {},
   "outputs": [
    {
     "data": {
      "text/plain": [
       "20998"
      ]
     },
     "execution_count": 5,
     "metadata": {},
     "output_type": "execute_result"
    }
   ],
   "source": [
    "# Посчитаем кол-во пользователей для выборки эксперимента (50/50 за время А/А теста)\n",
    "n_size = int(round(views_distribution.users.sum()/2,0))\n",
    "n_size"
   ]
  },
  {
   "cell_type": "code",
   "execution_count": 6,
   "id": "ca58322a",
   "metadata": {},
   "outputs": [
    {
     "data": {
      "text/html": [
       "<div>\n",
       "<style scoped>\n",
       "    .dataframe tbody tr th:only-of-type {\n",
       "        vertical-align: middle;\n",
       "    }\n",
       "\n",
       "    .dataframe tbody tr th {\n",
       "        vertical-align: top;\n",
       "    }\n",
       "\n",
       "    .dataframe thead th {\n",
       "        text-align: right;\n",
       "    }\n",
       "</style>\n",
       "<table border=\"1\" class=\"dataframe\">\n",
       "  <thead>\n",
       "    <tr style=\"text-align: right;\">\n",
       "      <th></th>\n",
       "      <th>views</th>\n",
       "      <th>users</th>\n",
       "      <th>p</th>\n",
       "    </tr>\n",
       "  </thead>\n",
       "  <tbody>\n",
       "    <tr>\n",
       "      <th>15</th>\n",
       "      <td>16</td>\n",
       "      <td>545</td>\n",
       "      <td>0.012977</td>\n",
       "    </tr>\n",
       "    <tr>\n",
       "      <th>14</th>\n",
       "      <td>15</td>\n",
       "      <td>537</td>\n",
       "      <td>0.012787</td>\n",
       "    </tr>\n",
       "    <tr>\n",
       "      <th>13</th>\n",
       "      <td>14</td>\n",
       "      <td>500</td>\n",
       "      <td>0.011906</td>\n",
       "    </tr>\n",
       "    <tr>\n",
       "      <th>34</th>\n",
       "      <td>35</td>\n",
       "      <td>485</td>\n",
       "      <td>0.011548</td>\n",
       "    </tr>\n",
       "    <tr>\n",
       "      <th>29</th>\n",
       "      <td>30</td>\n",
       "      <td>469</td>\n",
       "      <td>0.011167</td>\n",
       "    </tr>\n",
       "    <tr>\n",
       "      <th>...</th>\n",
       "      <td>...</td>\n",
       "      <td>...</td>\n",
       "      <td>...</td>\n",
       "    </tr>\n",
       "    <tr>\n",
       "      <th>280</th>\n",
       "      <td>287</td>\n",
       "      <td>1</td>\n",
       "      <td>0.000024</td>\n",
       "    </tr>\n",
       "    <tr>\n",
       "      <th>278</th>\n",
       "      <td>285</td>\n",
       "      <td>1</td>\n",
       "      <td>0.000024</td>\n",
       "    </tr>\n",
       "    <tr>\n",
       "      <th>276</th>\n",
       "      <td>280</td>\n",
       "      <td>1</td>\n",
       "      <td>0.000024</td>\n",
       "    </tr>\n",
       "    <tr>\n",
       "      <th>1</th>\n",
       "      <td>2</td>\n",
       "      <td>1</td>\n",
       "      <td>0.000024</td>\n",
       "    </tr>\n",
       "    <tr>\n",
       "      <th>300</th>\n",
       "      <td>370</td>\n",
       "      <td>1</td>\n",
       "      <td>0.000024</td>\n",
       "    </tr>\n",
       "  </tbody>\n",
       "</table>\n",
       "<p>301 rows × 3 columns</p>\n",
       "</div>"
      ],
      "text/plain": [
       "     views  users         p\n",
       "15      16    545  0.012977\n",
       "14      15    537  0.012787\n",
       "13      14    500  0.011906\n",
       "34      35    485  0.011548\n",
       "29      30    469  0.011167\n",
       "..     ...    ...       ...\n",
       "280    287      1  0.000024\n",
       "278    285      1  0.000024\n",
       "276    280      1  0.000024\n",
       "1        2      1  0.000024\n",
       "300    370      1  0.000024\n",
       "\n",
       "[301 rows x 3 columns]"
      ]
     },
     "execution_count": 6,
     "metadata": {},
     "output_type": "execute_result"
    }
   ],
   "source": [
    "# Посчитаем вероятности просмотров\n",
    "views_distribution['p'] = views_distribution['users']/views_distribution.users.sum()\n",
    "views_distribution.sort_values(by = 'p', ascending = False)"
   ]
  },
  {
   "cell_type": "code",
   "execution_count": 7,
   "id": "d07a8be9",
   "metadata": {},
   "outputs": [
    {
     "data": {
      "text/plain": [
       "<Axes: xlabel='views', ylabel='users'>"
      ]
     },
     "execution_count": 7,
     "metadata": {},
     "output_type": "execute_result"
    },
    {
     "data": {
      "image/png": "[encoded data removed]",
      "text/plain": [
       "<Figure size 640x480 with 1 Axes>"
      ]
     },
     "metadata": {},
     "output_type": "display_data"
    }
   ],
   "source": [
    "# Визуализируем распределения просмотров\n",
    "sns.barplot(x=views_distribution['views'], y=views_distribution['users'])"
   ]
  },
  {
   "cell_type": "code",
   "execution_count": 8,
   "id": "50e1459c",
   "metadata": {},
   "outputs": [],
   "source": [
    "# Достанем распределение CTR за неделю\n",
    "q_ctr = \"\"\"\n",
    "select \n",
    "   floor(ctr, 2) as ctr, count() as users\n",
    "from (select toDate(time) as dt, \n",
    "    user_id,\n",
    "    sum(action = 'like')/sum(action = 'view') as ctr\n",
    "from {db}.feed_actions\n",
    "where dt between '2024-04-26' and '2024-05-02'\n",
    "group by dt, user_id\n",
    ")\n",
    "group by ctr\n",
    "\"\"\"\n",
    "\n",
    "ctr_distribution = ph.read_clickhouse(q_ctr, connection=connection)"
   ]
  },
  {
   "cell_type": "code",
   "execution_count": 9,
   "id": "85d55683",
   "metadata": {},
   "outputs": [
    {
     "data": {
      "text/html": [
       "<div>\n",
       "<style scoped>\n",
       "    .dataframe tbody tr th:only-of-type {\n",
       "        vertical-align: middle;\n",
       "    }\n",
       "\n",
       "    .dataframe tbody tr th {\n",
       "        vertical-align: top;\n",
       "    }\n",
       "\n",
       "    .dataframe thead th {\n",
       "        text-align: right;\n",
       "    }\n",
       "</style>\n",
       "<table border=\"1\" class=\"dataframe\">\n",
       "  <thead>\n",
       "    <tr style=\"text-align: right;\">\n",
       "      <th></th>\n",
       "      <th>ctr</th>\n",
       "      <th>users</th>\n",
       "      <th>p</th>\n",
       "    </tr>\n",
       "  </thead>\n",
       "  <tbody>\n",
       "    <tr>\n",
       "      <th>17</th>\n",
       "      <td>0.20</td>\n",
       "      <td>4993</td>\n",
       "      <td>0.058658</td>\n",
       "    </tr>\n",
       "    <tr>\n",
       "      <th>33</th>\n",
       "      <td>0.16</td>\n",
       "      <td>4233</td>\n",
       "      <td>0.049729</td>\n",
       "    </tr>\n",
       "    <tr>\n",
       "      <th>50</th>\n",
       "      <td>0.25</td>\n",
       "      <td>4216</td>\n",
       "      <td>0.049529</td>\n",
       "    </tr>\n",
       "    <tr>\n",
       "      <th>6</th>\n",
       "      <td>0.18</td>\n",
       "      <td>4213</td>\n",
       "      <td>0.049494</td>\n",
       "    </tr>\n",
       "    <tr>\n",
       "      <th>72</th>\n",
       "      <td>0.21</td>\n",
       "      <td>3957</td>\n",
       "      <td>0.046487</td>\n",
       "    </tr>\n",
       "    <tr>\n",
       "      <th>...</th>\n",
       "      <td>...</td>\n",
       "      <td>...</td>\n",
       "      <td>...</td>\n",
       "    </tr>\n",
       "    <tr>\n",
       "      <th>27</th>\n",
       "      <td>0.69</td>\n",
       "      <td>2</td>\n",
       "      <td>0.000023</td>\n",
       "    </tr>\n",
       "    <tr>\n",
       "      <th>73</th>\n",
       "      <td>0.83</td>\n",
       "      <td>1</td>\n",
       "      <td>0.000012</td>\n",
       "    </tr>\n",
       "    <tr>\n",
       "      <th>20</th>\n",
       "      <td>0.73</td>\n",
       "      <td>1</td>\n",
       "      <td>0.000012</td>\n",
       "    </tr>\n",
       "    <tr>\n",
       "      <th>51</th>\n",
       "      <td>1.00</td>\n",
       "      <td>1</td>\n",
       "      <td>0.000012</td>\n",
       "    </tr>\n",
       "    <tr>\n",
       "      <th>39</th>\n",
       "      <td>0.88</td>\n",
       "      <td>1</td>\n",
       "      <td>0.000012</td>\n",
       "    </tr>\n",
       "  </tbody>\n",
       "</table>\n",
       "<p>80 rows × 3 columns</p>\n",
       "</div>"
      ],
      "text/plain": [
       "     ctr  users         p\n",
       "17  0.20   4993  0.058658\n",
       "33  0.16   4233  0.049729\n",
       "50  0.25   4216  0.049529\n",
       "6   0.18   4213  0.049494\n",
       "72  0.21   3957  0.046487\n",
       "..   ...    ...       ...\n",
       "27  0.69      2  0.000023\n",
       "73  0.83      1  0.000012\n",
       "20  0.73      1  0.000012\n",
       "51  1.00      1  0.000012\n",
       "39  0.88      1  0.000012\n",
       "\n",
       "[80 rows x 3 columns]"
      ]
     },
     "execution_count": 9,
     "metadata": {},
     "output_type": "execute_result"
    }
   ],
   "source": [
    "# Вычислим верояности CTR\n",
    "ctr_distribution['p'] = ctr_distribution['users']/ctr_distribution.users.sum()\n",
    "ctr_distribution.sort_values(by = 'p', ascending = False)"
   ]
  },
  {
   "cell_type": "code",
   "execution_count": 10,
   "id": "51fb03aa",
   "metadata": {},
   "outputs": [
    {
     "name": "stderr",
     "output_type": "stream",
     "text": [
      "100%|████████████████████████████████████| 20000/20000 [03:07<00:00, 106.95it/s]\n"
     ]
    }
   ],
   "source": [
    "# Проведем симуляцию 20000 раз для алгоритма версии №1 (group_B_views >= 50)\n",
    "n_sim = 20000\n",
    "n_size = int(round(views_distribution.users.sum()/2,0))\n",
    "pv = np.array([])\n",
    "\n",
    "for _ in tqdm(range(n_sim)):\n",
    "    group_A_views = rng.choice(views_distribution['views'], size=(n_size), replace=True, p=views_distribution['p']).astype(\"int64\")\n",
    "    group_B_views = rng.choice(views_distribution['views'], size=(n_size), replace=True, p=views_distribution['p']).astype(\"int64\")\n",
    "    group_B_views = (group_B_views + ((1 + rng.binomial(n=1, p=0.5, size=n_size)) * rng.binomial(n=1, p=0.9, size=n_size) * (group_B_views >= 50))).astype(\"int64\")\n",
    "\n",
    "    group_A_ctr = rng.choice(ctr_distribution['ctr'], size=(n_size), replace=True, p=ctr_distribution['p'])\n",
    "    group_B_ctr = rng.choice(ctr_distribution['ctr'], size=(n_size), replace=True, p=ctr_distribution['p'])\n",
    "\n",
    "    clicks_A = rng.binomial(group_A_views, group_A_ctr).astype(\"int32\")\n",
    "    clicks_B = rng.binomial(group_B_views, group_B_ctr).astype(\"int32\")\n",
    "    pv = np.append(pv, stats.ttest_ind(clicks_A, clicks_B, equal_var=False).pvalue)"
   ]
  },
  {
   "cell_type": "code",
   "execution_count": 14,
   "id": "0587e28f",
   "metadata": {},
   "outputs": [
    {
     "data": {
      "text/plain": [
       "26.0"
      ]
     },
     "execution_count": 14,
     "metadata": {},
     "output_type": "execute_result"
    }
   ],
   "source": [
    "# Рассчитаем мощность теста\n",
    "power_v0 = round(np.mean(pv<= 0.05)*100,0)\n",
    "power_v0"
   ]
  },
  {
   "cell_type": "code",
   "execution_count": 29,
   "id": "5bda1a65-8801-446d-a4df-7426bcffed9a",
   "metadata": {},
   "outputs": [
    {
     "data": {
      "image/png": "[encoded data removed]",
      "text/plain": [
       "<Figure size 800x100 with 1 Axes>"
      ]
     },
     "metadata": {},
     "output_type": "display_data"
    }
   ],
   "source": [
    "# Визуализируем результат\n",
    "current_progress = power_v0  # Текущий прогресс в процентах\n",
    "goal = 100  # Цель в процентах\n",
    "\n",
    "# Визуализация полоски прогресса\n",
    "fig, ax = plt.subplots(figsize=(8, 1))\n",
    "ax.barh([''], [goal], color='lightgray', edgecolor='black')\n",
    "ax.barh([''], [current_progress], color='skyblue', edgecolor='black')\n",
    "\n",
    "# Настройка осей и заголовка\n",
    "ax.set_xlim(0, 100)\n",
    "ax.set_title('Statistical power ver.01')\n",
    "ax.text(current_progress, 0, f'{current_progress}%', va='center', ha='right', fontsize=12, color='black')\n",
    "\n",
    "plt.show()"
   ]
  },
  {
   "cell_type": "markdown",
   "id": "67880af1",
   "metadata": {},
   "source": [
    "**Ответ:** Мощность теста 26% - слишком мала, чтобы верно оценить эффект"
   ]
  },
  {
   "cell_type": "markdown",
   "id": "cd156bea",
   "metadata": {},
   "source": [
    "### Задание 2.\n",
    "ML улучшили качество алгоритма, теперь он срабатывает на пользователях с числом просмотров от 30 и выше, т.е:\n",
    "- Алгоритм добавляет пользователям 1-2 просмотра\n",
    "- Вероятность того, что он сработает, составляет 90%\n",
    "- Если у пользователя меньше 30 просмотров, то алгоритм не сработает"
   ]
  },
  {
   "cell_type": "code",
   "execution_count": 30,
   "id": "26551cf0",
   "metadata": {},
   "outputs": [
    {
     "name": "stderr",
     "output_type": "stream",
     "text": [
      "100%|████████████████████████████████████| 20000/20000 [03:06<00:00, 107.19it/s]\n"
     ]
    }
   ],
   "source": [
    "# Проведем симуляцию 20000 раз для алгоритма версии №2 (group_B_views >= 30)\n",
    "# n_sim = 20000\n",
    "# n_size = int(round(views_distribution.users.sum()/2,0))\n",
    "pv = np.array([])\n",
    "\n",
    "for _ in tqdm(range(n_sim)):\n",
    "    group_A_views = rng.choice(views_distribution['views'], size=(n_size), replace=True, p=views_distribution['p']).astype(\"int64\")\n",
    "    group_B_views = rng.choice(views_distribution['views'], size=(n_size), replace=True, p=views_distribution['p']).astype(\"int64\")\n",
    "    group_B_views = (group_B_views + ((1 + rng.binomial(n=1, p=0.5, size=n_size)) * rng.binomial(n=1, p=0.9, size=n_size) * (group_B_views >= 30))).astype(\"int64\")\n",
    "\n",
    "    group_A_ctr = rng.choice(ctr_distribution['ctr'], size=(n_size), replace=True, p=ctr_distribution['p'])\n",
    "    group_B_ctr = rng.choice(ctr_distribution['ctr'], size=(n_size), replace=True, p=ctr_distribution['p'])\n",
    "\n",
    "    clicks_A = rng.binomial(group_A_views, group_A_ctr).astype(\"int32\")\n",
    "    clicks_B = rng.binomial(group_B_views, group_B_ctr).astype(\"int32\")\n",
    "    pv = np.append(pv, stats.ttest_ind(clicks_A, clicks_B, equal_var=False).pvalue)"
   ]
  },
  {
   "cell_type": "code",
   "execution_count": 31,
   "id": "43831a65",
   "metadata": {},
   "outputs": [
    {
     "data": {
      "text/plain": [
       "42.0"
      ]
     },
     "execution_count": 31,
     "metadata": {},
     "output_type": "execute_result"
    }
   ],
   "source": [
    "# Рассчитаем мощность теста\n",
    "power_v1 = round(np.mean(pv<= 0.05)*100,0)\n",
    "power_v1"
   ]
  },
  {
   "cell_type": "code",
   "execution_count": 33,
   "id": "2b294dbd-5780-4abc-8235-2d15cb9a4676",
   "metadata": {},
   "outputs": [
    {
     "data": {
      "image/png": "[encoded data removed]",
      "text/plain": [
       "<Figure size 800x100 with 1 Axes>"
      ]
     },
     "metadata": {},
     "output_type": "display_data"
    }
   ],
   "source": [
    "# Визуализируем результат\n",
    "current_progress = power_v1  # Текущий прогресс в процентах\n",
    "goal = 100  # Цель в процентах\n",
    "\n",
    "# Визуализация полоски прогресса\n",
    "fig, ax = plt.subplots(figsize=(8, 1))\n",
    "ax.barh([''], [goal], color='lightgray', edgecolor='black')\n",
    "ax.barh([''], [current_progress], color='plum', edgecolor='black')\n",
    "\n",
    "# Настройка осей и заголовка\n",
    "ax.set_xlim(0, 100)\n",
    "ax.set_title('Statistical power ver.02')\n",
    "ax.text(current_progress, 0, f'{current_progress}%', va='center', ha='right', fontsize=12, color='black')\n",
    "\n",
    "plt.show()"
   ]
  },
  {
   "cell_type": "markdown",
   "id": "eca78adf",
   "metadata": {},
   "source": [
    "**Ответ:** Мощность теста 42% - лучше, но по-прежнему мало, чтобы верно обнаружить эффект."
   ]
  },
  {
   "cell_type": "markdown",
   "id": "3be46b42",
   "metadata": {},
   "source": [
    "### Задание 3.\n",
    "Нам утвердили длительность эксперимента длиной в 2 недели.\n",
    "Теперь допустим, что в эти две недели к нам придёт столько же пользователей, сколько пришло суммарно за период АА-теста и АБ-теста (с 2024-04-26 по 2024-05-09).  \n",
    "Рассчитаем мощность теста."
   ]
  },
  {
   "cell_type": "code",
   "execution_count": 10,
   "id": "08c663f1",
   "metadata": {},
   "outputs": [
    {
     "data": {
      "text/html": [
       "<div>\n",
       "<style scoped>\n",
       "    .dataframe tbody tr th:only-of-type {\n",
       "        vertical-align: middle;\n",
       "    }\n",
       "\n",
       "    .dataframe tbody tr th {\n",
       "        vertical-align: top;\n",
       "    }\n",
       "\n",
       "    .dataframe thead th {\n",
       "        text-align: right;\n",
       "    }\n",
       "</style>\n",
       "<table border=\"1\" class=\"dataframe\">\n",
       "  <thead>\n",
       "    <tr style=\"text-align: right;\">\n",
       "      <th></th>\n",
       "      <th>users</th>\n",
       "    </tr>\n",
       "  </thead>\n",
       "  <tbody>\n",
       "    <tr>\n",
       "      <th>0</th>\n",
       "      <td>61182</td>\n",
       "    </tr>\n",
       "  </tbody>\n",
       "</table>\n",
       "</div>"
      ],
      "text/plain": [
       "   users\n",
       "0  61182"
      ]
     },
     "execution_count": 10,
     "metadata": {},
     "output_type": "execute_result"
    }
   ],
   "source": [
    "# Пересчитаем кол-во пользователей за 2 недели\n",
    "\n",
    "q_users = \"\"\"\n",
    "select  count(distinct user_id) as users\n",
    "FROM {db}.feed_actions \n",
    "where toDate(time) between '2024-04-26' and '2024-05-09'\n",
    "\"\"\"\n",
    "\n",
    "users_qty = ph.read_clickhouse(q_users, connection=connection)\n",
    "users_qty"
   ]
  },
  {
   "cell_type": "code",
   "execution_count": 11,
   "id": "6989b23a",
   "metadata": {},
   "outputs": [
    {
     "data": {
      "text/plain": [
       "30591"
      ]
     },
     "execution_count": 11,
     "metadata": {},
     "output_type": "execute_result"
    }
   ],
   "source": [
    "# Пересчитаем кол-во пользователей для выборки эксперимента (50/50 за время А/А и A/B теста)\n",
    "n2_size = int(round(users_qty.users.sum()/2,0))\n",
    "n2_size"
   ]
  },
  {
   "cell_type": "code",
   "execution_count": 36,
   "id": "796529d8",
   "metadata": {},
   "outputs": [
    {
     "name": "stderr",
     "output_type": "stream",
     "text": [
      "100%|█████████████████████████████████████| 20000/20000 [04:30<00:00, 73.81it/s]\n"
     ]
    }
   ],
   "source": [
    "# Проведем симуляцию 20000 раз для алгоритма версии №3 (group_B_views >= 30 & n_size = 30591)\n",
    "n_sim = 20000\n",
    "n_size = int(round(users_qty.users.sum()/2,0))\n",
    "pv = np.array([])\n",
    "\n",
    "for _ in tqdm(range(n_sim)):\n",
    "    group_A_views = rng.choice(views_distribution['views'], size=(n_size), replace=True, p=views_distribution['p']).astype(\"int64\")\n",
    "    group_B_views = rng.choice(views_distribution['views'], size=(n_size), replace=True, p=views_distribution['p']).astype(\"int64\")\n",
    "    group_B_views = (group_B_views + ((1 + rng.binomial(n=1, p=0.5, size=n_size)) * rng.binomial(n=1, p=0.9, size=n_size) * (group_B_views >= 30))).astype(\"int64\")\n",
    "\n",
    "    group_A_ctr = rng.choice(ctr_distribution['ctr'], size=(n_size), replace=True, p=ctr_distribution['p'])\n",
    "    group_B_ctr = rng.choice(ctr_distribution['ctr'], size=(n_size), replace=True, p=ctr_distribution['p'])\n",
    "\n",
    "    clicks_A = rng.binomial(group_A_views, group_A_ctr).astype(\"int32\")\n",
    "    clicks_B = rng.binomial(group_B_views, group_B_ctr).astype(\"int32\")\n",
    "    pv = np.append(pv, stats.ttest_ind(clicks_A, clicks_B, equal_var=False).pvalue)"
   ]
  },
  {
   "cell_type": "code",
   "execution_count": 37,
   "id": "fd794b7c",
   "metadata": {},
   "outputs": [
    {
     "data": {
      "text/plain": [
       "0.5596"
      ]
     },
     "execution_count": 37,
     "metadata": {},
     "output_type": "execute_result"
    }
   ],
   "source": [
    "# Рассчитаем мощность теста\n",
    "np.mean(pv<= 0.05)"
   ]
  },
  {
   "cell_type": "code",
   "execution_count": 38,
   "id": "504aba3c-a378-4165-be48-5196b614156d",
   "metadata": {},
   "outputs": [
    {
     "data": {
      "text/plain": [
       "56.0"
      ]
     },
     "execution_count": 38,
     "metadata": {},
     "output_type": "execute_result"
    }
   ],
   "source": [
    "# Рассчитаем мощность теста\n",
    "power_v2 = round(np.mean(pv<= 0.05)*100,0)\n",
    "power_v2"
   ]
  },
  {
   "cell_type": "code",
   "execution_count": 39,
   "id": "c0aed377-43f2-4a83-b2fd-a2136c3a1849",
   "metadata": {},
   "outputs": [
    {
     "data": {
      "image/png": "[encoded data removed]",
      "text/plain": [
       "<Figure size 800x100 with 1 Axes>"
      ]
     },
     "metadata": {},
     "output_type": "display_data"
    }
   ],
   "source": [
    "# Визуализируем результат\n",
    "current_progress = power_v2  # Текущий прогресс в процентах\n",
    "goal = 100  # Цель в процентах\n",
    "\n",
    "# Визуализация полоски прогресса\n",
    "fig, ax = plt.subplots(figsize=(8, 1))\n",
    "ax.barh([''], [goal], color='lightgray', edgecolor='black')\n",
    "ax.barh([''], [current_progress], color='plum', edgecolor='black')\n",
    "\n",
    "# Настройка осей и заголовка\n",
    "ax.set_xlim(0, 100)\n",
    "ax.set_title('Statistical power ver.03')\n",
    "ax.text(current_progress, 0, f'{current_progress}%', va='center', ha='right', fontsize=12, color='black')\n",
    "\n",
    "plt.show()"
   ]
  },
  {
   "cell_type": "markdown",
   "id": "e8bde86a",
   "metadata": {},
   "source": [
    "**Ответ:** Мощность теста 56% - Еще лучше, но по-прежнему мало, чтобы верно оценить эффект"
   ]
  },
  {
   "cell_type": "markdown",
   "id": "8c0f4a2c",
   "metadata": {},
   "source": [
    "### Задание 4.\n",
    "Будем отбирать только нужных пользователей, отсеим их таким образом:\n",
    "\n",
    "mask_A = group_A_views >= 30  \n",
    "mask_B = group_B_views >= 30\n",
    "\n",
    "scipy.stats.ttest_ind(group_A_likes[mask_A], group_B_likes[mask_B], equal_var=False)"
   ]
  },
  {
   "cell_type": "code",
   "execution_count": 13,
   "id": "17169eb1",
   "metadata": {},
   "outputs": [
    {
     "name": "stderr",
     "output_type": "stream",
     "text": [
      "100%|█████████████████████████████████████| 20000/20000 [04:31<00:00, 73.56it/s]\n"
     ]
    }
   ],
   "source": [
    "# Проведем симуляцию 20000 раз для алгоритма версии №4 \n",
    "# (group_B_views >= 30, n_size = 30591, group_A_views >= 30 & group_B_views >= 30 )\n",
    "\n",
    "n_sim = 20000\n",
    "n_size = int(round(users_qty.users.sum()/2,0))\n",
    "pv = np.array([])\n",
    "\n",
    "for _ in tqdm(range(n_sim)):\n",
    "    group_A_views = rng.choice(views_distribution['views'], size=(n_size), replace=True, p=views_distribution['p']).astype(\"int64\")\n",
    "    group_B_views = rng.choice(views_distribution['views'], size=(n_size), replace=True, p=views_distribution['p']).astype(\"int64\")\n",
    "    group_B_views = (group_B_views + ((1 + rng.binomial(n=1, p=0.5, size=n_size)) * rng.binomial(n=1, p=0.9, size=n_size) * (group_B_views >= 30))).astype(\"int64\")\n",
    "\n",
    "    group_A_ctr = rng.choice(ctr_distribution['ctr'], size=(n_size), replace=True, p=ctr_distribution['p'])\n",
    "    group_B_ctr = rng.choice(ctr_distribution['ctr'], size=(n_size), replace=True, p=ctr_distribution['p'])\n",
    "\n",
    "    clicks_A = rng.binomial(group_A_views, group_A_ctr).astype(\"int32\")\n",
    "    clicks_B = rng.binomial(group_B_views, group_B_ctr).astype(\"int32\")\n",
    "    \n",
    "    mask_A = group_A_views >= 30 \n",
    "    mask_B = group_B_views >= 30\n",
    "    pv = np.append(pv, stats.ttest_ind(clicks_A[mask_A], clicks_B[mask_B], equal_var=False).pvalue)"
   ]
  },
  {
   "cell_type": "code",
   "execution_count": 14,
   "id": "f90e8479",
   "metadata": {},
   "outputs": [
    {
     "data": {
      "text/plain": [
       "0.64215"
      ]
     },
     "execution_count": 14,
     "metadata": {},
     "output_type": "execute_result"
    }
   ],
   "source": [
    "# Рассчитаем мощность теста\n",
    "np.mean(pv<= 0.05)"
   ]
  },
  {
   "cell_type": "code",
   "execution_count": 15,
   "id": "ca3d7840-2e4d-461d-bb8f-32b67a3646a5",
   "metadata": {},
   "outputs": [
    {
     "data": {
      "text/plain": [
       "64.0"
      ]
     },
     "execution_count": 15,
     "metadata": {},
     "output_type": "execute_result"
    }
   ],
   "source": [
    "# Рассчитаем мощность теста\n",
    "power_v3 = round(np.mean(pv<= 0.05)*100,0)\n",
    "power_v3"
   ]
  },
  {
   "cell_type": "code",
   "execution_count": 16,
   "id": "6ddd35e6-b2bf-4f9c-8626-1ab508cce1d0",
   "metadata": {},
   "outputs": [
    {
     "data": {
      "image/png": "[encoded data removed]",
      "text/plain": [
       "<Figure size 800x100 with 1 Axes>"
      ]
     },
     "metadata": {},
     "output_type": "display_data"
    }
   ],
   "source": [
    "# Визуализируем результат\n",
    "current_progress = power_v3  # Текущий прогресс в процентах\n",
    "goal = 100  # Цель в процентах\n",
    "\n",
    "# Визуализация полоски прогресса\n",
    "fig, ax = plt.subplots(figsize=(8, 1))\n",
    "ax.barh([''], [goal], color='lightgray', edgecolor='black')\n",
    "ax.barh([''], [current_progress], color='plum', edgecolor='black')\n",
    "\n",
    "# Настройка осей и заголовка\n",
    "ax.set_xlim(0, 100)\n",
    "ax.set_title('Statistical power ver.04')\n",
    "ax.text(current_progress, 0, f'{current_progress}%', va='center', ha='right', fontsize=12, color='black')\n",
    "\n",
    "plt.show()"
   ]
  },
  {
   "cell_type": "markdown",
   "id": "1ac2308b",
   "metadata": {},
   "source": [
    "**Ответ:** Мощность теста 64% - хороший результат, но так и не дотягивает до общепринятого стандарта в 80% мощности, так как это разумный баланс между риском альфа- и бета-ошибок."
   ]
  },
  {
   "cell_type": "code",
   "execution_count": null,
   "id": "c0ca2876",
   "metadata": {},
   "outputs": [],
   "source": []
  }
 ],
 "metadata": {
  "kernelspec": {
   "display_name": "Python 3 (ipykernel)",
   "language": "python",
   "name": "python3"
  },
  "language_info": {
   "codemirror_mode": {
    "name": "ipython",
    "version": 3
   },
   "file_extension": ".py",
   "mimetype": "text/x-python",
   "name": "python",
   "nbconvert_exporter": "python",
   "pygments_lexer": "ipython3",
   "version": "3.8.19"
  }
 },
 "nbformat": 4,
 "nbformat_minor": 5
}
